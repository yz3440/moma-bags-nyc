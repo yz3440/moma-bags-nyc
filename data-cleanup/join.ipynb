{
 "cells": [
  {
   "cell_type": "code",
   "execution_count": 5,
   "metadata": {},
   "outputs": [],
   "source": [
    "# join the two tsv files on the ocr_id column\n",
    "\n",
    "import pandas as pd\n",
    "path_1 = \"panorama_urls_with_gsv.tsv\"\n",
    "path_2 = \"db_dump.tsv\"\n",
    "\n",
    "df_1 = pd.read_csv(path_1, sep=\"\\t\")\n",
    "df_2 = pd.read_csv(path_2, sep=\"\\t\")\n",
    "\n",
    "df = pd.merge(df_1, df_2, on=\"ocr_id\")\n",
    "\n",
    "# this is all the columns\n",
    "# gsv_url\turl\tpanorama_id_x\tocr_id\tnotes\tpanorama_id_y\ttext\tconfidence\tyaw\tpitch\twidth\theight\tengine\tsearch_text\tpanorama_id.1\tlat\tlon\tposition\tcopyright\tdate\theading\tpitch.1\troll\tdisplayed_address\thouse_number\troad\tquarter\tsuburb\tcity\tstate\tpostcode\tcountry\thas_ocr\tdownload_attempted\tcomputed_ocr\n",
    "# i want to keep the following columns:\n",
    "# gsv_url, url, panorama_id_x as panorama_id,ocr_id, notes, lat, lon,  displayed_address,  copyright, date, heading, pitch.1 as pitch, roll, postcode, suburb\n",
    "\n",
    "df = df[\n",
    "    [\n",
    "        \"gsv_url\",\n",
    "        \"url\",\n",
    "        \"ocr_id\",\n",
    "        \"yaw\",\n",
    "        \"pitch\",\n",
    "        \"width\",\n",
    "        \"height\",\n",
    "        \"panorama_id_x\",\n",
    "        \"notes\",\n",
    "        \"lat\",\n",
    "        \"lon\",\n",
    "        \"copyright\",\n",
    "        \"date\",\n",
    "        \"heading\",\n",
    "        \"pitch.1\",\n",
    "        \"roll\",\n",
    "        \"displayed_address\",\n",
    "        \"suburb\",\n",
    "    ]\n",
    "]\n",
    "\n",
    "\n",
    "\n",
    "# rename the columns\n",
    "df.rename(\n",
    "    columns={\n",
    "        \"yaw\": \"ocr_yaw\",\n",
    "        \"pitch\": \"ocr_pitch\",\n",
    "        \"width\": \"ocr_width\",\n",
    "        \"height\": \"ocr_height\",\n",
    "        \"panorama_id_x\": \"panorama_id\",\n",
    "        \"pitch.1\": \"pitch\",\n",
    "    },\n",
    "    inplace=True,\n",
    ")\n",
    "\n",
    "\n",
    "df.to_csv(\"panorama_urls_with_gsv_and_website_data.tsv\", sep=\"\\t\", index=False)\n",
    "\n"
   ]
  },
  {
   "cell_type": "code",
   "execution_count": null,
   "metadata": {},
   "outputs": [],
   "source": []
  }
 ],
 "metadata": {
  "kernelspec": {
   "display_name": "Python 3",
   "language": "python",
   "name": "python3"
  },
  "language_info": {
   "codemirror_mode": {
    "name": "ipython",
    "version": 3
   },
   "file_extension": ".py",
   "mimetype": "text/x-python",
   "name": "python",
   "nbconvert_exporter": "python",
   "pygments_lexer": "ipython3",
   "version": "3.11.7"
  }
 },
 "nbformat": 4,
 "nbformat_minor": 2
}
